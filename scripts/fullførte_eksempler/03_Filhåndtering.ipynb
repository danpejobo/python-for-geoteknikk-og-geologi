{
 "cells": [
  {
   "cell_type": "markdown",
   "id": "fcc3aeb3",
   "metadata": {},
   "source": [
    "# a. Åpne en fil med open() og les innholdet"
   ]
  },
  {
   "cell_type": "code",
   "execution_count": 48,
   "id": "f29d8aef",
   "metadata": {},
   "outputs": [],
   "source": [
    "# åpner en fil i lesemodus og les hver linje i hele filen\n",
    "file = open('..\\data\\grunnvanns_data.csv', 'r', encoding='utf-8')"
   ]
  },
  {
   "cell_type": "markdown",
   "id": "adba6e7b",
   "metadata": {},
   "source": [
    "# b. Lese innholdet av filen"
   ]
  },
  {
   "cell_type": "code",
   "execution_count": 49,
   "id": "ae83814c",
   "metadata": {},
   "outputs": [
    {
     "name": "stdout",
     "output_type": "stream",
     "text": [
      "['Sted,Vannhøyde,Dato\\n', 'Punkt1,5.2,2023-01-01\\n', 'Punkt1,4.8,2023-01-15\\n', 'Punkt1,5.0,2023-02-01\\n', 'Punkt2,6.1,2023-01-01\\n', 'Punkt2,6.3,2023-01-15\\n', 'Punkt2,6.2,2023-02-01\\n', 'Punkt3,4.6,2023-01-01\\n', 'Punkt3,4.7,2023-01-15\\n', 'Punkt3,4.9,2023-02-01\\n', 'Punkt4,5.5,2023-01-01\\n', 'Punkt4,5.3,2023-01-15\\n', 'Punkt4,5.4,2023-02-01']\n"
     ]
    }
   ],
   "source": [
    "content = file.readlines()\n",
    "print(content)"
   ]
  },
  {
   "cell_type": "markdown",
   "id": "222313b5",
   "metadata": {},
   "source": [
    "# c. Lukking av en fil"
   ]
  },
  {
   "cell_type": "code",
   "execution_count": 52,
   "id": "33fb1538",
   "metadata": {},
   "outputs": [],
   "source": [
    "file.close()"
   ]
  },
  {
   "cell_type": "markdown",
   "id": "f608fb29",
   "metadata": {},
   "source": [
    "# d. Hvorfor bruker vi \"with\" når vi åpner filer?"
   ]
  },
  {
   "cell_type": "code",
   "execution_count": 73,
   "id": "883f49f1",
   "metadata": {},
   "outputs": [
    {
     "name": "stdout",
     "output_type": "stream",
     "text": [
      "['Sted,Vannhøyde,Dato\\n', 'Punkt1,5.2,2023-01-01\\n', 'Punkt1,4.8,2023-01-15\\n', 'Punkt1,5.0,2023-02-01\\n', 'Punkt2,6.1,2023-01-01\\n', 'Punkt2,6.3,2023-01-15\\n', 'Punkt2,6.2,2023-02-01\\n', 'Punkt3,4.6,2023-01-01\\n', 'Punkt3,4.7,2023-01-15\\n', 'Punkt3,4.9,2023-02-01\\n', 'Punkt4,5.5,2023-01-01\\n', 'Punkt4,5.3,2023-01-15\\n', 'Punkt4,5.4,2023-02-01']\n"
     ]
    }
   ],
   "source": [
    "with open('..\\data\\grunnvanns_data.csv', 'r', encoding='utf-8') as file:\n",
    "    content = file.readlines()\n",
    "    print(content)\n",
    "\n",
    "# test to illustrate\n",
    "# content = file.readlines()"
   ]
  },
  {
   "cell_type": "markdown",
   "id": "8cf4923f",
   "metadata": {},
   "source": [
    "# e. Forskjellige lese- og skrivemoduser:\n",
    "'r': Lese-modus. (standard)\n",
    "\n",
    "'w': Skrivemodus. Overskriver filen hvis den eksisterer, eller oppretter en ny fil.\n",
    "\n",
    "'a': Legg til modus. Legger til innhold på slutten av en eksisterende fil eller oppretter en ny fil.\n",
    "\n",
    "'b': Binær modus. Brukes med de ovennevnte modiene for å lese/skrive binærfiler, som bilder."
   ]
  },
  {
   "cell_type": "markdown",
   "id": "d3cb96cd",
   "metadata": {},
   "source": [
    "# f. Generelle \"must know\" standard metoder for filhåndtering:\n",
    "file.write(text): Skriver en streng til en fil. Brukes ofte i skrivemodus ('w') eller legg til modus ('a').\n",
    "\n",
    "file.seek(offset): Flytter filpekeren til en bestemt posisjon. Nyttig hvis du vil lese eller skrive fra et bestemt sted i en fil.\n",
    "\n",
    "file.tell(): Gir den nåværende posisjonen til filpekeren."
   ]
  },
  {
   "cell_type": "code",
   "execution_count": 92,
   "id": "97442644",
   "metadata": {},
   "outputs": [
    {
     "name": "stdout",
     "output_type": "stream",
     "text": [
      "Filen ble ikke funnet!\n"
     ]
    }
   ],
   "source": [
    "# Håndtering av ikke eksisterende fil\n",
    "try:\n",
    "    with open('myfile.txt', 'r') as file:\n",
    "        content = file.read()\n",
    "        print(content)\n",
    "except FileNotFoundError:\n",
    "    print(\"Filen ble ikke funnet!\")"
   ]
  },
  {
   "cell_type": "code",
   "execution_count": 91,
   "id": "d0329a7c",
   "metadata": {},
   "outputs": [],
   "source": [
    "#  Eksempel på å skrive til en fil. La oss si at vannhøyden fra filen vi leste inn er feil, med 0.56m. Vi må da ordne den\n",
    "with open('..\\src\\korrigert_vannhøyde.csv', 'w') as file:\n",
    "    # lager en ny liste som skal holde de nye verdiene\n",
    "    processed_data = []\n",
    "    # skriver ut en streng for \"å vise\" at det er en ny fil\n",
    "    file.write(\"Dette er en ny fil, og med korrigert data fra forrige fil!\\n\\n\")\n",
    "    # looper gjennom opprinnelig data\n",
    "    for linje in content:\n",
    "        # splitter hver linje med \",\" ned i elementer og fjerner \"nylinje \\n\" bokstaven (se over)\n",
    "        elementer = linje.strip().split(',')\n",
    "        # len(elementer) returnerer antall elementer i linjen.\n",
    "        # len(elementer) > 1 Sjekker om det er mer enn 1 element i linjen. Viktig sjekk siden vi vil ha et element etter\n",
    "        # \"Sted\" (som da blir vannhøyde).\n",
    "        # elementer[1].replace('.', '', 1).isdigit()\n",
    "        # --> elementer[1] er det andre elementet i element listen, som da er Vannhøyde\n",
    "        # --> replace('.', '', 1) bytter første opptreden av \".\" med \"\"(tom streng). 1-tallet spesifiserer bytte 1 gang\n",
    "        # --> isdigit() sjekker (etter at vi har fjernet desimalplassen) om strengen bare inneholder tall. Returnerer True.\n",
    "        if len(elementer) > 1 and elementer[1].replace('.', '', 1).isdigit():\n",
    "            # Kaster tall-strengen til desimaltall, så legger på feilmargiene. Deretter avrunder vi desimaltallet til 2\n",
    "            # desimaler før man konverterer den tilbake til en streng og lagrer den tilbake i elementer listen.\n",
    "            elementer[1] = str(round(float(elementer[1]) + 0.56, 2))\n",
    "        # ','.join(elementer) --> lager en sammenhengende streng igjen fra elementer listen. Dette gjøres for hver linje\n",
    "        # processed_data.append() --> legger på den nye strengen i den prosesserte listen\n",
    "        processed_data.append(','.join(elementer))\n",
    "    #skriver ut den nye listen til en fil\n",
    "    for line in processed_data:\n",
    "        file.write(line + '\\n')"
   ]
  },
  {
   "cell_type": "code",
   "execution_count": null,
   "id": "fde9a3a1",
   "metadata": {},
   "outputs": [],
   "source": []
  }
 ],
 "metadata": {
  "kernelspec": {
   "display_name": "Python 3 (ipykernel)",
   "language": "python",
   "name": "python3"
  },
  "language_info": {
   "codemirror_mode": {
    "name": "ipython",
    "version": 3
   },
   "file_extension": ".py",
   "mimetype": "text/x-python",
   "name": "python",
   "nbconvert_exporter": "python",
   "pygments_lexer": "ipython3",
   "version": "3.11.5"
  }
 },
 "nbformat": 4,
 "nbformat_minor": 5
}
