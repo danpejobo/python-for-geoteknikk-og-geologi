{
 "cells": [
  {
   "cell_type": "markdown",
   "id": "9f5040ad",
   "metadata": {},
   "source": [
    "# a. Variabler og datatyper"
   ]
  },
  {
   "cell_type": "code",
   "execution_count": 11,
   "id": "5812eb1b",
   "metadata": {},
   "outputs": [],
   "source": [
    "#Bruk \"type()\" for å finne ut hvordan datatype de jobber med.\n",
    "\n",
    "tekst = \"dette er tekst! DuH!\"\n",
    "heltall = 10\n",
    "desimaltall = 20.5"
   ]
  },
  {
   "cell_type": "code",
   "execution_count": 12,
   "id": "c2f45ff2",
   "metadata": {},
   "outputs": [
    {
     "name": "stdout",
     "output_type": "stream",
     "text": [
      "<class 'str'>\n",
      "<class 'int'>\n",
      "<class 'float'>\n"
     ]
    }
   ],
   "source": [
    "print(type(tekst))\n",
    "print(type(heltall))\n",
    "print(type(desimaltall))"
   ]
  },
  {
   "cell_type": "markdown",
   "id": "9a6d51b8",
   "metadata": {},
   "source": [
    "# b. Operasjoner med Variabler"
   ]
  },
  {
   "cell_type": "code",
   "execution_count": 9,
   "id": "48648519",
   "metadata": {},
   "outputs": [
    {
     "name": "stdout",
     "output_type": "stream",
     "text": [
      "Sum:  7\n"
     ]
    }
   ],
   "source": [
    "a = 5\n",
    "b = 2\n",
    "sum = a + b\n",
    "print(\"Sum: \", sum)"
   ]
  },
  {
   "cell_type": "code",
   "execution_count": null,
   "id": "e12b9b75",
   "metadata": {},
   "outputs": [],
   "source": [
    "differanse = a - b\n",
    "print(\"Differanse: \", differanse)"
   ]
  },
  {
   "cell_type": "code",
   "execution_count": null,
   "id": "c6696c64",
   "metadata": {},
   "outputs": [],
   "source": [
    "produkt = a * b\n",
    "print(\"Produkt: \", produkt)"
   ]
  },
  {
   "cell_type": "code",
   "execution_count": null,
   "id": "977400d1",
   "metadata": {},
   "outputs": [],
   "source": [
    "kvotient = a / b\n",
    "print(\"Kvotient: \", kvotient)"
   ]
  },
  {
   "cell_type": "code",
   "execution_count": 10,
   "id": "1d932cd0",
   "metadata": {},
   "outputs": [
    {
     "name": "stdout",
     "output_type": "stream",
     "text": [
      "Integer division:  2\n"
     ]
    }
   ],
   "source": [
    "#integer division (floor division) \n",
    "int_div = a // b\n",
    "print(\"Integer division: \", int_div)"
   ]
  },
  {
   "cell_type": "markdown",
   "id": "9fcd6097",
   "metadata": {},
   "source": [
    "# c. Strenger og deres metoder"
   ]
  },
  {
   "cell_type": "code",
   "execution_count": 17,
   "id": "9a0d0943",
   "metadata": {},
   "outputs": [
    {
     "name": "stdout",
     "output_type": "stream",
     "text": [
      "geologi OG geoteknikk er Spennende!\n"
     ]
    }
   ],
   "source": [
    "tekst = \"geologi OG geoteknikk er Spennende!\"\n",
    "print(tekst)"
   ]
  },
  {
   "cell_type": "code",
   "execution_count": 15,
   "id": "7699b743",
   "metadata": {},
   "outputs": [
    {
     "name": "stdout",
     "output_type": "stream",
     "text": [
      "GEOLOGI OG GEOTEKNIKK ER SPENNENDE!\n"
     ]
    }
   ],
   "source": [
    "# Gjør strengen til store bokstaver\n",
    "stor = tekst.upper()\n",
    "print(stor)"
   ]
  },
  {
   "cell_type": "code",
   "execution_count": 16,
   "id": "f34314ec",
   "metadata": {},
   "outputs": [
    {
     "name": "stdout",
     "output_type": "stream",
     "text": [
      "geologi og geoteknikk er spennende!\n"
     ]
    }
   ],
   "source": [
    "# Gjør strengen til små bokstaver\n",
    "liten = tekst.lower()\n",
    "print(liten)"
   ]
  },
  {
   "cell_type": "code",
   "execution_count": 18,
   "id": "44793560",
   "metadata": {},
   "outputs": [
    {
     "name": "stdout",
     "output_type": "stream",
     "text": [
      "Geologi Og Geoteknikk Er Spennende!\n"
     ]
    }
   ],
   "source": [
    "# Første bokstav i hvert ord til stor bokstav\n",
    "tittel = tekst.title()\n",
    "print(tittel)"
   ]
  },
  {
   "cell_type": "code",
   "execution_count": 22,
   "id": "a8a28c18",
   "metadata": {},
   "outputs": [
    {
     "name": "stdout",
     "output_type": "stream",
     "text": [
      "True\n"
     ]
    }
   ],
   "source": [
    "# Sjekk om strengen starter med bestemte tegn\n",
    "starter_med_geo = tekst.startswith(\"geo\")\n",
    "print(starter_med_geo)"
   ]
  },
  {
   "cell_type": "code",
   "execution_count": 26,
   "id": "49057bed",
   "metadata": {},
   "outputs": [
    {
     "name": "stdout",
     "output_type": "stream",
     "text": [
      "25\n"
     ]
    }
   ],
   "source": [
    "# Finn indeksen til et bestemt ord/tegn i strengen\n",
    "pos = tekst.find(\"Spennende\")\n",
    "print(pos)"
   ]
  },
  {
   "cell_type": "code",
   "execution_count": 30,
   "id": "723a7127",
   "metadata": {},
   "outputs": [
    {
     "name": "stdout",
     "output_type": "stream",
     "text": [
      "c:\\docs\n",
      "ew\n"
     ]
    }
   ],
   "source": [
    "# Det er et problem med \"strenger\", og det er hvis man bruker '\\', som ofte brukes i fil-baner\n",
    "filbane = 'c:\\docs\\new'\n",
    "print(filbane)"
   ]
  },
  {
   "cell_type": "code",
   "execution_count": 31,
   "id": "2e0af393",
   "metadata": {},
   "outputs": [
    {
     "name": "stdout",
     "output_type": "stream",
     "text": [
      "c:\\docs\\new\n",
      "c:\\docs\\new-doubleslash\n"
     ]
    }
   ],
   "source": [
    "# kan bruke raw string 'r' eller 'kansellere spesialtegn med en \\'\n",
    "filbane = r'c:\\docs\\new'\n",
    "print(filbane)\n",
    "\n",
    "filbane = 'c:\\docs\\\\new-doubleslash'\n",
    "print(filbane)"
   ]
  },
  {
   "cell_type": "markdown",
   "id": "e18c6ba9",
   "metadata": {},
   "source": [
    "# d. Tall og deres metoder"
   ]
  },
  {
   "cell_type": "code",
   "execution_count": 34,
   "id": "bb0e5544",
   "metadata": {},
   "outputs": [
    {
     "name": "stdout",
     "output_type": "stream",
     "text": [
      "5.543\n"
     ]
    }
   ],
   "source": [
    "tall = -5.543\n",
    "\n",
    "# Få absolutt verdi av et tall\n",
    "abs_tall = abs(tall)\n",
    "print(abs_tall)"
   ]
  },
  {
   "cell_type": "code",
   "execution_count": 35,
   "id": "ea1f6c60",
   "metadata": {},
   "outputs": [
    {
     "name": "stdout",
     "output_type": "stream",
     "text": [
      "-5.54\n"
     ]
    }
   ],
   "source": [
    "# Rund av et tall, med spesifisert antall desimaler\n",
    "avrundet_tall = round(tall, 2)\n",
    "print(avrundet_tall)"
   ]
  },
  {
   "cell_type": "code",
   "execution_count": 36,
   "id": "6d8119df",
   "metadata": {},
   "outputs": [
    {
     "name": "stdout",
     "output_type": "stream",
     "text": [
      "-5\n"
     ]
    }
   ],
   "source": [
    "# Konvertere et desimaltall til heltall (uten avrunding)\n",
    "heltall = int(tall)\n",
    "print(heltall)"
   ]
  },
  {
   "cell_type": "code",
   "execution_count": 38,
   "id": "9a8a95d3",
   "metadata": {},
   "outputs": [
    {
     "name": "stdout",
     "output_type": "stream",
     "text": [
      "5\n"
     ]
    }
   ],
   "source": [
    "# Maksimum og minimum av en sekvens\n",
    "max_tall = max(1, 2, 3, 4, 5)\n",
    "print(max_tall)"
   ]
  },
  {
   "cell_type": "code",
   "execution_count": 37,
   "id": "a0cdae47",
   "metadata": {},
   "outputs": [
    {
     "name": "stdout",
     "output_type": "stream",
     "text": [
      "1\n"
     ]
    }
   ],
   "source": [
    "min_tall = min(1, 2, 3, 4, 5)\n",
    "print(min_tall)"
   ]
  },
  {
   "cell_type": "markdown",
   "id": "f6125dc9",
   "metadata": {},
   "source": [
    "# e. Lister"
   ]
  },
  {
   "cell_type": "code",
   "execution_count": 43,
   "id": "fd44df72",
   "metadata": {},
   "outputs": [
    {
     "name": "stdout",
     "output_type": "stream",
     "text": [
      "['sand', 'leire', 'grus', 'morene', 'silt']\n",
      "['leire', 'grus', 'morene', 'silt']\n",
      "['silt', 'morene', 'grus', 'leire']\n",
      "['grus', 'leire', 'morene', 'silt']\n",
      "grus\n",
      "morene\n"
     ]
    }
   ],
   "source": [
    "jordtyper = [\"sand\", \"leire\", \"grus\", \"morene\"]\n",
    "\n",
    "# Legger til en ny jordtype\n",
    "jordtyper.append(\"silt\")\n",
    "print(jordtyper)\n",
    "\n",
    "# Fjern et element fra listen\n",
    "jordtyper.remove(\"sand\")\n",
    "print(jordtyper)\n",
    "\n",
    "# Inverter rekkefølgen av elementene i listen\n",
    "jordtyper.reverse()\n",
    "print(jordtyper)\n",
    "\n",
    "# Sorter listen\n",
    "jordtyper.sort()\n",
    "print(jordtyper)\n",
    "\n",
    "# Henter den første jordtypen\n",
    "første_jord = jordtyper[0]\n",
    "print(første_jord)\n",
    "\n",
    "# Finn indeksen til et element i listen og deretter hente jordtypen på den gitte indeksen\n",
    "index_for_leire = jordtyper.index(\"morene\")\n",
    "jordtype_leire = jordtyper[index_for_leire]\n",
    "print(jordtype_leire)"
   ]
  },
  {
   "cell_type": "markdown",
   "id": "2aadbd66",
   "metadata": {},
   "source": [
    "# f. Betingede uttrykk"
   ]
  },
  {
   "cell_type": "code",
   "execution_count": 46,
   "id": "badce981",
   "metadata": {},
   "outputs": [
    {
     "name": "stdout",
     "output_type": "stream",
     "text": [
      "grus - veldig grov, drenerer raskt.\n",
      "leire - dårlig drenering, holder godt på vann.\n",
      "morene - blandet materiale, ulike egenskaper.\n",
      "silt - moderat drenering, finere enn sand, men grovere enn leire.\n"
     ]
    }
   ],
   "source": [
    "for jordtype in jordtyper:\n",
    "    if jordtype == \"grus\":\n",
    "        print(jordtype, \"- veldig grov, drenerer raskt.\")\n",
    "    elif jordtype == \"leire\":\n",
    "        print(jordtype, \"- dårlig drenering, holder godt på vann.\")\n",
    "    elif jordtype == \"morene\":\n",
    "        print(jordtype, \"- blandet materiale, ulike egenskaper.\")\n",
    "    elif jordtype == \"silt\":\n",
    "        print(jordtype, \"- moderat drenering, finere enn sand, men grovere enn leire.\")"
   ]
  },
  {
   "cell_type": "code",
   "execution_count": null,
   "id": "9b1f8007",
   "metadata": {},
   "outputs": [],
   "source": []
  }
 ],
 "metadata": {
  "kernelspec": {
   "display_name": "Python 3 (ipykernel)",
   "language": "python",
   "name": "python3"
  },
  "language_info": {
   "codemirror_mode": {
    "name": "ipython",
    "version": 3
   },
   "file_extension": ".py",
   "mimetype": "text/x-python",
   "name": "python",
   "nbconvert_exporter": "python",
   "pygments_lexer": "ipython3",
   "version": "3.11.5"
  }
 },
 "nbformat": 4,
 "nbformat_minor": 5
}
