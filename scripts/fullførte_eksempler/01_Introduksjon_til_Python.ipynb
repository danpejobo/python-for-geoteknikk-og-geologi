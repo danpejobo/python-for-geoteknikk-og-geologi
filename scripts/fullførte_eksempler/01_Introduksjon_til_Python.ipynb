{
 "cells": [
  {
   "cell_type": "code",
   "execution_count": 2,
   "id": "4db54c1a",
   "metadata": {},
   "outputs": [
    {
     "data": {
      "text/plain": [
       "'Detter er også en kommentar. Denen brukes ofte i forbindelse med noe som heter doc-string, \\nen beskrivelse til funksjoner'"
      ]
     },
     "execution_count": 2,
     "metadata": {},
     "output_type": "execute_result"
    }
   ],
   "source": [
    "# dette er en kommentar\n",
    "\n",
    "\"\"\"Detter er også en kommentar. Denen brukes ofte i forbindelse med noe som heter doc-string, \n",
    "en beskrivelse til funksjoner\"\"\""
   ]
  },
  {
   "cell_type": "code",
   "execution_count": 15,
   "id": "5e2e0538",
   "metadata": {},
   "outputs": [
    {
     "name": "stdout",
     "output_type": "stream",
     "text": [
      "Hei, verden!\n"
     ]
    }
   ],
   "source": [
    "# 1. Skrive ut en beskjed\n",
    "\n",
    "# Første kode man ofte skrive på kurs\n",
    "print(\"Hei, verden!\")"
   ]
  },
  {
   "cell_type": "code",
   "execution_count": 28,
   "id": "89eabeb0",
   "metadata": {},
   "outputs": [
    {
     "name": "stdout",
     "output_type": "stream",
     "text": [
      "Ola Normann \t--> <class 'str'>\n",
      "30 \t\t--> <class 'int'>\n",
      "6.6 \t\t--> <class 'float'>\n"
     ]
    }
   ],
   "source": [
    "# 2. variabler\n",
    "\n",
    "# I python trenger man ikke beskrive datatypene\n",
    "\n",
    "#string (str)\n",
    "navn = 'Ola Normann'\n",
    "\n",
    "#integer (int)\n",
    "alder = 30\n",
    "\n",
    "#for desimaltall må man bruke punktum - prøv å skifte til komma\n",
    "brøk = 6.6\n",
    "\n",
    "#printe ut resultatene\n",
    "print (navn, '\\t-->', type(navn))\n",
    "print (alder, '\\t\\t-->', type(alder))\n",
    "print (brøk, '\\t\\t-->', type(brøk))"
   ]
  },
  {
   "cell_type": "code",
   "execution_count": 29,
   "id": "a9f7adfa",
   "metadata": {},
   "outputs": [
    {
     "name": "stdout",
     "output_type": "stream",
     "text": [
      "8\n"
     ]
    }
   ],
   "source": [
    "# 3. Grunnleggende operasjoner\n",
    "\n",
    "a = 5\n",
    "b = 3\n",
    "sum = a + b\n",
    "print(sum)"
   ]
  },
  {
   "cell_type": "code",
   "execution_count": 56,
   "id": "b3c95183",
   "metadata": {},
   "outputs": [
    {
     "name": "stdout",
     "output_type": "stream",
     "text": [
      "['sand', 'leire', 'grus'] --> <class 'list'>\n",
      "3\n"
     ]
    }
   ],
   "source": [
    "# 4. Lister\n",
    "\n",
    "# En samling av verdier som kan inneholde tall, strenger eller andre objekter.\n",
    "\n",
    "jordtyper = [\"sand\", \"leire\", \"grus\"]\n",
    "print(jordtyper, '-->', type(jordtyper))\n",
    "\n",
    "# Finne størrelsen på en liste er ofte nødvendig ved å iterere gjennom den\n",
    "# lenght() <-- innebygd funksjon som returnerer et tall\n",
    "\n",
    "length = len(jordtyper)\n",
    "print(length)"
   ]
  },
  {
   "cell_type": "code",
   "execution_count": 38,
   "id": "d5f75fd2",
   "metadata": {},
   "outputs": [
    {
     "name": "stdout",
     "output_type": "stream",
     "text": [
      "Det er varmt!\n"
     ]
    }
   ],
   "source": [
    "# 5. Betingelser\n",
    "\n",
    "# Lik: a == b\n",
    "# Ikke Lik: a != b\n",
    "# Mindre enn: a < b\n",
    "# Mindre eller lik: a <= b\n",
    "# Større enn: a > b\n",
    "# større eller lik: a >= b\n",
    "\n",
    "# prøv å endre denne!\n",
    "temp = 25\n",
    "\n",
    "if temp > 21:\n",
    "    print(\"Det er varmt!\")\n",
    "elif temp == 21:\n",
    "    print(\"Det er passelig!\")\n",
    "else:\n",
    "    print(\"Det er kjølig!\")"
   ]
  },
  {
   "cell_type": "code",
   "execution_count": 55,
   "id": "17f5c616",
   "metadata": {},
   "outputs": [
    {
     "name": "stdout",
     "output_type": "stream",
     "text": [
      "Dette er iterasjon 1\n",
      "Dette er iterasjon 2\n",
      "Dette er iterasjon 3\n",
      "grus\n",
      "0 sand\n",
      "1 leire\n",
      "2 grus\n"
     ]
    }
   ],
   "source": [
    "# 6. Løkker\n",
    "\n",
    "# Utfører en handling flere ganger!\n",
    "\n",
    "for i in range(3):\n",
    "    print(\"Dette er iterasjon\", i+1)\n",
    "\n",
    "for element in jordtyper:\n",
    "    if element == \"grus\":\n",
    "        print(x)\n",
    "\n",
    "# enumerate() <-- returnerer en tuple med en index og verdien, veldig handy når man må ha både indeks og verdien\n",
    "\n",
    "for idx, element in enumerate(jordtyper):\n",
    "    print (idx, element)"
   ]
  },
  {
   "cell_type": "code",
   "execution_count": 57,
   "id": "37022172",
   "metadata": {},
   "outputs": [
    {
     "name": "stdout",
     "output_type": "stream",
     "text": [
      "gneis\n",
      "dioritt\n"
     ]
    }
   ],
   "source": [
    "# 7. ØVELSE\n",
    "\n",
    "# Gitt listene:\n",
    "\n",
    "strøk = [225, 133, 100, 150, 90]\n",
    "fall = [40, 35, 66, 20, 15]\n",
    "bergart = [\"granitt\", \"skifer\", \"sandstein\", \"gneis\", \"dioritt\"]\n",
    "\n",
    "# ved å iterere gjennom listene print bergartene som har fallmålinger mindre enn 35 grader\n",
    "for idx, elem in enumerate(fall):\n",
    "    if elem < 35:\n",
    "        print(bergart[idx])\n"
   ]
  },
  {
   "cell_type": "code",
   "execution_count": null,
   "id": "37148449",
   "metadata": {},
   "outputs": [],
   "source": []
  }
 ],
 "metadata": {
  "kernelspec": {
   "display_name": "Python 3 (ipykernel)",
   "language": "python",
   "name": "python3"
  },
  "language_info": {
   "codemirror_mode": {
    "name": "ipython",
    "version": 3
   },
   "file_extension": ".py",
   "mimetype": "text/x-python",
   "name": "python",
   "nbconvert_exporter": "python",
   "pygments_lexer": "ipython3",
   "version": "3.11.5"
  }
 },
 "nbformat": 4,
 "nbformat_minor": 5
}
