{
 "cells": [
  {
   "cell_type": "markdown",
   "id": "26db104e",
   "metadata": {},
   "source": [
    "# b. Grunnleggende numpy-array"
   ]
  },
  {
   "cell_type": "code",
   "execution_count": 16,
   "id": "58ef0b90",
   "metadata": {},
   "outputs": [
    {
     "name": "stdout",
     "output_type": "stream",
     "text": [
      "[[ 45  30]\n",
      " [ 60  20]\n",
      " [ 30  40]\n",
      " [ 85  15]\n",
      " [ 90  35]\n",
      " [120  25]\n",
      " [150  30]\n",
      " [210  20]\n",
      " [270  10]]\n"
     ]
    }
   ],
   "source": [
    "import numpy as np\n",
    "\n",
    "# Leser inn data fra en CSV-fil\n",
    "# 'delimiter' angir at hver verdi er separert med et semikolon\n",
    "# 'dtype=int' angir at vi ønsker å konvertere disse verdiene til heltall, kan også være \"float\" eller \"str\"\n",
    "\n",
    "målinger = np.genfromtxt(r'..\\data\\04_numpy_array.csv', delimiter=';', dtype=int, skip_header=1)\n",
    "print(målinger)"
   ]
  },
  {
   "cell_type": "markdown",
   "id": "f1d63ae5",
   "metadata": {},
   "source": [
    "# c. Operasjoner med geologiske numpy arrays:"
   ]
  },
  {
   "cell_type": "code",
   "execution_count": 17,
   "id": "bc9f47fa",
   "metadata": {},
   "outputs": [
    {
     "name": "stdout",
     "output_type": "stream",
     "text": [
      "Gj.strøk:  117.77777777777777\n",
      "Gj.fall:  25.0\n"
     ]
    }
   ],
   "source": [
    "# Beregn gjennomsnittlig strøk og fall\n",
    "gjennomsnitt_strøk = np.mean(målinger[:, 0])\n",
    "print(\"Gj.strøk: \", gjennomsnitt_strøk)\n",
    "gjennomsnitt_fall = np.mean(målinger[:, 1])\n",
    "print(\"Gj.fall: \", gjennomsnitt_fall)"
   ]
  },
  {
   "cell_type": "markdown",
   "id": "3e68e397",
   "metadata": {},
   "source": [
    "# d. Nyttige numpy funksjoner for geologiske data:"
   ]
  },
  {
   "cell_type": "code",
   "execution_count": 20,
   "id": "78ced113",
   "metadata": {},
   "outputs": [
    {
     "name": "stdout",
     "output_type": "stream",
     "text": [
      "Maks fall:  40\n",
      "Min fall:  10\n",
      "Std.avvik strøk:  75.20753180038668\n"
     ]
    }
   ],
   "source": [
    "# Finn maksimum og minimum fall-verdier\n",
    "max_fall = np.max(målinger[:, 1])\n",
    "print(\"Maks fall: \", max_fall)\n",
    "min_fall = np.min(målinger[:, 1])\n",
    "print(\"Min fall: \", min_fall)\n",
    "\n",
    "# Beregn standardavvik for strøk-verdier\n",
    "std_dev_strøk = np.std(målinger[:, 0])\n",
    "print(\"Std.avvik strøk: \", std_dev_strøk)"
   ]
  },
  {
   "cell_type": "markdown",
   "id": "98e4899f",
   "metadata": {},
   "source": [
    "# e. Indeksering og skjæring av geologiske data:"
   ]
  },
  {
   "cell_type": "code",
   "execution_count": 25,
   "id": "0585e91d",
   "metadata": {},
   "outputs": [
    {
     "name": "stdout",
     "output_type": "stream",
     "text": [
      "[45 30]\n",
      "[ 45  60  30  85  90 120 150 210 270]\n",
      "[[ 45  30]\n",
      " [ 30  40]\n",
      " [ 90  35]\n",
      " [150  30]]\n"
     ]
    }
   ],
   "source": [
    "# Hent første strøk/fall-måling\n",
    "første_måling = målinger[0]\n",
    "print(første_måling)\n",
    "\n",
    "# Hent alle strøk-verdier\n",
    "alle_strøk = målinger[:, 0]\n",
    "print(alle_strøk)\n",
    "\n",
    "# Hent strøk/fall-målinger med fall større enn 25 grader\n",
    "høyt_fall = målinger[målinger[:, 1] > 25]\n",
    "print(høyt_fall)"
   ]
  },
  {
   "cell_type": "code",
   "execution_count": null,
   "id": "7ccc1e38",
   "metadata": {},
   "outputs": [],
   "source": []
  }
 ],
 "metadata": {
  "kernelspec": {
   "display_name": "Python 3 (ipykernel)",
   "language": "python",
   "name": "python3"
  },
  "language_info": {
   "codemirror_mode": {
    "name": "ipython",
    "version": 3
   },
   "file_extension": ".py",
   "mimetype": "text/x-python",
   "name": "python",
   "nbconvert_exporter": "python",
   "pygments_lexer": "ipython3",
   "version": "3.11.5"
  }
 },
 "nbformat": 4,
 "nbformat_minor": 5
}
